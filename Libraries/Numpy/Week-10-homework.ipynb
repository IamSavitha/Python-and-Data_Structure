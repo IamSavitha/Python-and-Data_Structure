{
 "cells": [
  {
   "cell_type": "markdown",
   "id": "2253f8f5-0012-47b5-bc4d-f4114f772ea2",
   "metadata": {},
   "source": [
    "### Week 10 - Home work"
   ]
  },
  {
   "cell_type": "markdown",
   "id": "de9ca527-4a4e-4f34-894c-f2d003401fba",
   "metadata": {},
   "source": [
    "# Instructions\n",
    "You need to finish all the sections and the points mentioned in each section."
   ]
  },
  {
   "cell_type": "markdown",
   "id": "e2eef5fd-0235-4d80-9077-bb246b899f00",
   "metadata": {},
   "source": [
    "# Section-1 \n",
    "You need to finish all the given points in a given section:\n",
    "\n",
    "       Update/Upgrade the NumPy package to the latest version\n",
    "       Install/Upgrade another package (e.g. Pandas)\n",
    "       Import NumPy as np\n",
    "       Use the np.array() function to create an array variable - array_1\n",
    "       E.g:\n",
    "        array([[ 10,  15],\n",
    "               [ 17, 100]])   \n",
    "   \n"
   ]
  },
  {
   "cell_type": "code",
   "execution_count": 115,
   "id": "9e54aa70-3162-4e69-886b-5a34c0498826",
   "metadata": {},
   "outputs": [
    {
     "name": "stdout",
     "output_type": "stream",
     "text": [
      "array_1:\n",
      " [100 110 120 130 140]\n"
     ]
    }
   ],
   "source": [
    "import numpy as np\n",
    "\n",
    "np_1SD = np.array([100,110,120,130, 140])\n",
    "np_1SD\n",
    "\n",
    "print(\"array_1:\\n\", np_1SD)"
   ]
  },
  {
   "cell_type": "code",
   "execution_count": 116,
   "id": "193b1dd4-6c0d-4c0c-add3-783a3d486035",
   "metadata": {},
   "outputs": [
    {
     "data": {
      "text/plain": [
       "array([[200, 300, 400, 500, 600],\n",
       "       [430, 540, 650, 760, 870],\n",
       "       [110, 220, 330, 440, 550]])"
      ]
     },
     "execution_count": 116,
     "metadata": {},
     "output_type": "execute_result"
    }
   ],
   "source": [
    "np_2SD = np.array([[200,300,400,500,600], [430,540,650,760,870], [110,220,330,440,550]])\n",
    "np_2SD"
   ]
  },
  {
   "cell_type": "code",
   "execution_count": 117,
   "id": "5fb14960-cdab-43ba-b98d-1eb6c4b48419",
   "metadata": {},
   "outputs": [
    {
     "data": {
      "text/plain": [
       "array([[[100, 200, 300, 400, 500],\n",
       "        [110, 210, 310, 401, 510]],\n",
       "\n",
       "       [[110, 120, 130, 140, 150],\n",
       "        [510, 520, 530, 540, 500]]])"
      ]
     },
     "execution_count": 117,
     "metadata": {},
     "output_type": "execute_result"
    }
   ],
   "source": [
    "np_3SD = np.array([[[100,200,300,400,500], [110,210,310,401,510]], [[110,120,130,140,150], [510,520,530,540,500]]])\n",
    "np_3SD"
   ]
  },
  {
   "cell_type": "markdown",
   "id": "31c5c7e2-3e94-4293-9bb5-1fc74ac9aa5c",
   "metadata": {},
   "source": [
    "# Section-2\n",
    "    * Generate 4 arrays of size 8\n",
    "     * 1st Array empty \"empty\"\n",
    "     * 2nd array full of  0s\n",
    "     * 3rd array full of 1s\n",
    "     * Last array full of 2s\n",
    "    * Generate 4 more arrays. This time, they should be 2 by 4 arrays.\n",
    "        * An empty array with the same shape as np_1SD. \n",
    "        * An 2-D array of 0s with the same shape as array_2D.\n",
    "        * A 3-D array of 1s with the same shappe as array_3D.\n",
    "        * A 3-D array of 2s with the same shape as array_3D."
   ]
  },
  {
   "cell_type": "code",
   "execution_count": 118,
   "id": "8d382e7f-13c4-4bc8-adcb-3fe37889bdf1",
   "metadata": {},
   "outputs": [],
   "source": [
    "empty_array = np.empty(8)  # Creates an array of uninitialized values\n",
    "zeros_array = np.zeros(8)  # Creates an array of 8 zeros\n",
    "ones_array = np.ones(8)   # Creates an array of 8 ones\n",
    "twos_array = np.full(8, 2)  # Creates an array of 8 twos"
   ]
  },
  {
   "cell_type": "code",
   "execution_count": 119,
   "id": "ae633c1d",
   "metadata": {},
   "outputs": [
    {
     "name": "stdout",
     "output_type": "stream",
     "text": [
      "Empty array: [0.01230661 0.19078228 0.1979822  0.20131642 0.09701997 0.21148643 0.08837214 0.00073395]\n",
      "Zeros array: [0. 0. 0. 0. 0. 0. 0. 0.]\n",
      "Ones array: [1. 1. 1. 1. 1. 1. 1. 1.]\n",
      "Twos array: [2 2 2 2 2 2 2 2]\n"
     ]
    }
   ],
   "source": [
    "print(\"Empty array:\", empty_array)\n",
    "print(\"Zeros array:\", zeros_array)\n",
    "print(\"Ones array:\", ones_array)\n",
    "print(\"Twos array:\", twos_array)"
   ]
  },
  {
   "cell_type": "code",
   "execution_count": 120,
   "id": "57c4f539",
   "metadata": {},
   "outputs": [
    {
     "name": "stdout",
     "output_type": "stream",
     "text": [
      "\n",
      "Empty like array: [0 0 0 0 0]\n",
      "2D Zeros array:\n",
      " [[0. 0. 0. 0.]\n",
      " [0. 0. 0. 0.]]\n",
      "3D Ones array:\n",
      " [[[1 1 1 1 1]\n",
      "  [1 1 1 1 1]]\n",
      "\n",
      " [[1 1 1 1 1]\n",
      "  [1 1 1 1 1]]]\n",
      "3D Twos array:\n",
      " [[[2 2 2 2 2]\n",
      "  [2 2 2 2 2]]\n",
      "\n",
      " [[2 2 2 2 2]\n",
      "  [2 2 2 2 2]]]\n"
     ]
    }
   ],
   "source": [
    "empty_like_array = np.empty_like(np_1SD) # Empty array with same shape as array_1 (can get filled with garbages)\n",
    "zeros_2d_array = np.zeros((2, 4))  # 2x4 array of zeros \n",
    "ones_3d_array = np.ones_like(np_3SD)  # Array of ones with same shape as array_3\n",
    "twos_3d_array = np.full_like(np_3SD, 2)  # Array of twos with same shape as array_3\n",
    "\n",
    "print(\"\\nEmpty like array:\", empty_like_array)\n",
    "print(\"2D Zeros array:\\n\", zeros_2d_array)\n",
    "print(\"3D Ones array:\\n\", ones_3d_array)\n",
    "print(\"3D Twos array:\\n\", twos_3d_array)"
   ]
  },
  {
   "cell_type": "markdown",
   "id": "5d267678-3cde-481f-b9ba-2af37b1c6525",
   "metadata": {},
   "source": [
    "# Section -3 \n",
    "#### Using np.arange() function, solve following\n",
    "      Generate array from 0 to 40, excluding 40. \n",
    "      Generate Array 0 to 40, including 40. \n",
    "      Generate integers from 35 to 50, including 50. \n",
    "      Generate where 5-th integers from 35 to 50, including 50. \n"
   ]
  },
  {
   "cell_type": "code",
   "execution_count": 121,
   "id": "0dc1bc5a-49c8-4efc-801e-cba1db974215",
   "metadata": {},
   "outputs": [
    {
     "name": "stdout",
     "output_type": "stream",
     "text": [
      "array_excluding 40: [ 0  1  2  3  4  5  6  7  8  9 10 11 12 13 14 15 16 17 18 19 20 21 22 23 24 25 26 27 28 29 30 31 32 33 34 35 36 37 38 39]\n",
      "array_including_40: [ 0  1  2  3  4  5  6  7  8  9 10 11 12 13 14 15 16 17 18 19 20 21 22 23 24 25 26 27 28 29 30 31 32 33 34 35 36 37 38 39 40]\n",
      "Array c(35 to 50, including 50): [35 36 37 38 39 40 41 42 43 44 45 46 47 48 49 50]\n",
      "Array d(Every 5th integer from 35 to 50): [35 40 45 50]\n"
     ]
    }
   ],
   "source": [
    "array_excluding_40 = np.arange(0, 40)\n",
    "print(\"array_excluding 40:\", array_excluding_40)\n",
    "\n",
    "array_including_40 = np.arange(0, 41) \n",
    "print(\"array_including_40:\", array_including_40)\n",
    "\n",
    "array_c = np.arange(35, 51)\n",
    "print(\"Array c(35 to 50, including 50):\", array_c)\n",
    "\n",
    "array_d = np.arange(35, 51, 5) #(start,stop,step)\n",
    "print(\"Array d(Every 5th integer from 35 to 50):\", array_d)"
   ]
  },
  {
   "cell_type": "markdown",
   "id": "abf8f47a-6164-463b-a2ab-11454032a431",
   "metadata": {},
   "source": [
    "# Section 4\n",
    "Generate the random value using numpy functions such as .random()\n",
    "\n",
    "    Use the probability to generate the single event\n",
    "    Array size of 8 with the probabilities of 8 events. \n",
    "    Array of 4 by 8 2 dimensional array with the probabilities of 40 events.  "
   ]
  },
  {
   "cell_type": "markdown",
   "id": "9beafada-baa8-4d27-9e27-7b313e4d0a2e",
   "metadata": {},
   "source": []
  },
  {
   "cell_type": "code",
   "execution_count": 122,
   "id": "068e8a11-159f-4021-bf8b-6745db164c65",
   "metadata": {},
   "outputs": [
    {
     "name": "stdout",
     "output_type": "stream",
     "text": [
      "Single event: 0.02961438285205431\n"
     ]
    }
   ],
   "source": [
    "np.set_printoptions(suppress = True, linewidth = 150)\n",
    "\n",
    "#   Single random event (between 0 and 1)\n",
    "single_event = np.random.rand()\n",
    "print(\"Single event:\", single_event)"
   ]
  },
  {
   "cell_type": "code",
   "execution_count": 123,
   "id": "ffd02d51",
   "metadata": {},
   "outputs": [
    {
     "name": "stdout",
     "output_type": "stream",
     "text": [
      "probabilities_unnormalized  of array size 8: [0.00339255 0.40492221 0.00024239 0.95308682 0.60321752 0.42615884 0.0807506  0.34396895]\n",
      "Probabilities normalised of array size 8: [0.01929208 0.05992153 0.20854551 0.08126482 0.24460708 0.14542151 0.0919551  0.14899237]\n"
     ]
    }
   ],
   "source": [
    "#   Array of size 8 with probabilities  unNORMALISED - not mutually exclusive\n",
    "number_of_event  = 8\n",
    "probabilities_unnormalised = np.random.rand(number_of_event)\n",
    "print(f\"probabilities_unnormalized  of array size {number_of_event}:\", probabilities_unnormalised)\n",
    "\n",
    "#   Array of size 8 with probabilities (must sum to 1) - NORMLISED - Mutually Exclusive and Exhaustive Events\n",
    "probabilities_normalised = np.random.rand(8)\n",
    "probabilities_normalised /= probabilities_normalised.sum()  # Normalize to sum to 1\n",
    "print(f\"Probabilities normalised of array size {number_of_event}:\", probabilities_normalised)"
   ]
  },
  {
   "cell_type": "code",
   "execution_count": 128,
   "id": "f1774f60",
   "metadata": {},
   "outputs": [
    {
     "name": "stdout",
     "output_type": "stream",
     "text": [
      "Probabilities unnormalised of array size 40 [0.87469335 0.1403592  0.92949114 0.93078713 0.95719998 0.56785971 0.44215676 0.17845003 0.66700302 0.3623822  0.02244564 0.23787726 0.76757882\n",
      " 0.68775778 0.44238053 0.71571644 0.54549369 0.23360524 0.9802578  0.64550392 0.50563562 0.58128226 0.85412236 0.7950527  0.00319106 0.11011398\n",
      " 0.83650012 0.80752916 0.1096389  0.93453471 0.9223898  0.47571892 0.40015899 0.65187491 0.15050546 0.81379189 0.84625811 0.27047179 0.6314482\n",
      " 0.27807213]\n",
      "Probabilities normalised of array size 40 [0.01201966 0.01828576 0.01453385 0.04346054 0.03706352 0.03343032 0.04077999 0.04530193 0.0147345  0.00540783 0.01330801 0.03793934 0.04322995\n",
      " 0.03488847 0.01024122 0.00132808 0.03443603 0.03686133 0.03015439 0.03202337 0.01644899 0.02461491 0.01036346 0.04390419 0.00122029 0.01270673\n",
      " 0.03853506 0.00549552 0.02243427 0.00011828 0.02719333 0.01036161 0.03191089 0.00918004 0.02320344 0.02750115 0.04308373 0.03182849 0.04248927\n",
      " 0.03797826]\n"
     ]
    }
   ],
   "source": [
    "#   Array of size 40 with probabilities  unNORMALISED - not mutually exclusive\n",
    "number_of_event  = 40 \n",
    "probabilities_unnormalised = np.random.rand(number_of_event)\n",
    "print(f\"Probabilities unnormalised of array size {number_of_event}\", probabilities_unnormalised)\n",
    "\n",
    "#   Array of size 40 with probabilities (must sum to 1) - NORMLISED - Mutually Exclusive and Exhaustive Events\n",
    "probabilities_normalised = np.random.rand(40)\n",
    "probabilities_normalised /= probabilities_normalised.sum()  # Normalize to sum to 1\n",
    "print(f\"Probabilities normalised of array size {number_of_event}\", probabilities_normalised)"
   ]
  },
  {
   "cell_type": "code",
   "execution_count": 141,
   "id": "5a589c93",
   "metadata": {},
   "outputs": [
    {
     "name": "stdout",
     "output_type": "stream",
     "text": [
      "picked 32 event's indices out of 40\n"
     ]
    }
   ],
   "source": [
    "chose_random_indices = np.random.choice(number_of_event, size=32, replace=False)\n",
    "print(f\"picked {len(chose_random_indices)} event's indices out of 40\")"
   ]
  },
  {
   "cell_type": "code",
   "execution_count": 143,
   "id": "2d77b143",
   "metadata": {},
   "outputs": [
    {
     "data": {
      "text/plain": [
       "array([[0.87469335, 0.17845003, 0.27047179, 0.23360524, 0.23787726, 0.84625811, 0.1403592 , 0.81379189],\n",
       "       [0.50563562, 0.65187491, 0.80752916, 0.85412236, 0.27807213, 0.9802578 , 0.15050546, 0.7950527 ],\n",
       "       [0.66700302, 0.9223898 , 0.3623822 , 0.92949114, 0.68775778, 0.64550392, 0.95719998, 0.71571644],\n",
       "       [0.44238053, 0.83650012, 0.93078713, 0.6314482 , 0.58128226, 0.56785971, 0.44215676, 0.47571892]])"
      ]
     },
     "execution_count": 143,
     "metadata": {},
     "output_type": "execute_result"
    }
   ],
   "source": [
    "prob_4X8_chose_from_40 = probabilities_unnormalised[chose_random_indices]\n",
    "event_matrix = prob_4X8_chose_from_40.reshape(4, 8)\n",
    "event_matrix"
   ]
  },
  {
   "cell_type": "code",
   "execution_count": 124,
   "id": "bf12d6c8",
   "metadata": {},
   "outputs": [
    {
     "name": "stdout",
     "output_type": "stream",
     "text": [
      "Probabilities (4x8):\n",
      " [[0.04694997 0.23151298 0.20327008 0.10206341 0.02719772 0.03792356 0.23870055 0.11238173]\n",
      " [0.20886248 0.17214584 0.01360887 0.0431513  0.1465445  0.03806305 0.18841658 0.18920738]\n",
      " [0.00085361 0.00232154 0.25221366 0.25268741 0.11955869 0.10835409 0.09122738 0.17278362]\n",
      " [0.24833989 0.1157931  0.17234911 0.01387324 0.22741712 0.02291968 0.14351252 0.05579534]]\n"
     ]
    }
   ],
   "source": [
    "#   4x8 array of probabilities (each row must sum to 1)\n",
    "probabilities_4x8 = np.random.rand(4, 8)\n",
    "probabilities_4x8 /= probabilities_4x8.sum(axis=1, keepdims=True)  # Normalize rows\n",
    "print(\"Probabilities (4x8):\\n\", probabilities_4x8)"
   ]
  },
  {
   "cell_type": "markdown",
   "id": "ee309eea-c375-4f9d-9afd-24e93b855f2d",
   "metadata": {},
   "source": [
    "# Section 5\n",
    "    Import the file and display it contents. You can use loadtxt(). You can use the file creditor-total-price.csv\n",
    "    Import the file and display it contents. You can use np.genfromtxt(). You can use the file creditor-total-price.csv\n",
    "        Set the data type to strings. \n",
    "        Skip the first row of the dataset. \n",
    "        Skip the last 15 rows of the dataset. \n",
    "        Only pull data from the 2nd, 3rd and 5th columns. \n",
    "\n",
    "\n",
    "Hint: By default np.loadtxt() asusmes all the values will be numeric, so it crashes when it encounters text data. We can bypass this by specifying the datatype to NumPy strings when importing."
   ]
  },
  {
   "cell_type": "code",
   "execution_count": 52,
   "id": "ddf379a6-2c15-49ca-a2ec-d9a168548659",
   "metadata": {},
   "outputs": [
    {
     "name": "stdout",
     "output_type": "stream",
     "text": [
      "Error: creditor.csv not found (loadtxt)\n",
      "Error: creditor.csv not found (genfromtxt)\n"
     ]
    }
   ],
   "source": [
    "#   Import with genfromtxt()\n",
    "try:\n",
    "    data_loadtxt = np.loadtxt(\"creditor.csv\", delimiter=\",\", dtype=str)\n",
    "    print(\"Data from loadtxt():\\n\", data_loadtxt)\n",
    "except FileNotFoundError:\n",
    "    print(\"Error: creditor.csv not found (loadtxt)\")\n",
    "\n",
    "\n",
    "#   Import with genfromtxt()\n",
    "try:\n",
    "    data_genfromtxt = np.genfromtxt(\"creditor.csv\", delimiter=\",\", dtype=str, skip_header=1, skip_footer=15, usecols=(1, 2, 4))\n",
    "    print(\"\\nData from genfromtxt():\\n\", data_genfromtxt)\n",
    "except FileNotFoundError:\n",
    "    print(\"Error: creditor.csv not found (genfromtxt)\")"
   ]
  },
  {
   "cell_type": "code",
   "execution_count": 54,
   "id": "f35471c3",
   "metadata": {},
   "outputs": [
    {
     "name": "stdout",
     "output_type": "stream",
     "text": [
      "Data from loadtxt():\n",
      " [['LoanID' 'StringID' 'LProduct' ... 'Address' 'Area' 'TotalPrice']\n",
      " ['1' 'uid_1' 'LProduct B' ... 'Address 2' 'Area 2' '16600']\n",
      " ['2' 'uid_2' 'LProduct B' ... 'Address 3' '' '16600']\n",
      " ...\n",
      " ['1041' 'uid_1041' 'LProduct B' ... 'Address 23' 'Area 4' '16600']\n",
      " ['1042' 'uid_1042' 'LProduct C' ... 'Address 52' 'Area 6' '15600']\n",
      " ['1043' 'uid_1043' 'LProduct B' ... 'Address 142' 'Area 6' '16600']]\n",
      "\n",
      "Data from genfromtxt():\n",
      " [['uid_1' 'LProduct B' 'Address 2']\n",
      " ['uid_2' 'LProduct B' 'Address 3']\n",
      " ['uid_3' 'LProduct C' 'Address 5']\n",
      " ...\n",
      " ['uid_1026' 'LProduct C' 'Address 203']\n",
      " ['uid_1027' 'LProduct B' 'Address 6']\n",
      " ['uid_1028' 'LProduct D' 'Address 265']]\n"
     ]
    }
   ],
   "source": [
    "try:\n",
    "    data_loadtxt = np.loadtxt(\"creditors-LT.csv\", delimiter=\",\", dtype=str)\n",
    "    print(\"Data from loadtxt():\\n\", data_loadtxt)\n",
    "except FileNotFoundError:\n",
    "    print(\"Error: creditor-LT.csv not found (loadtxt)\")\n",
    "\n",
    "#   Import with genfromtxt()\n",
    "try:\n",
    "    data_genfromtxt = np.genfromtxt(\"creditors-LT.csv\", delimiter=\",\", dtype=str, skip_header=1, skip_footer=15, usecols=(1, 2, 4))\n",
    "    print(\"\\nData from genfromtxt():\\n\", data_genfromtxt)\n",
    "except FileNotFoundError:\n",
    "    print(\"Error: creditors-LT.csv not found (genfromtxt)\")"
   ]
  },
  {
   "cell_type": "markdown",
   "id": "24e506ee-1e6b-4084-9914-cb0fabd6cd27",
   "metadata": {},
   "source": [
    "# Section 6 \n",
    "    Slice the first column of the np_2SD array\n",
    "    array([200, 430, 110])\n",
    "    Slice the last column of the np_2SD  array\n",
    "    array([600, 870, 550])\n",
    "    Slice the second row of the np_2SD array\n",
    "    array([430, 540, 650, 760, 870])\n",
    "    Slice the last two columns of the np_2SD row of the np_2SD array\n",
    "    array([760, 870])\n",
    "    Slice the 2-nd row of the np_2SD array excluding the last two columns\n",
    "    array([430, 540, 650])\n",
    "    Slice everything excluding the first row and last column of the np_2SD array\n",
    "    array([[430, 540, 650, 760],\n",
    "           [110, 220, 330, 440]])\n",
    "    Slice the 1st, 3rd and 5th columns of the np_3SD array\n",
    "    array([[ 1, 11],\n",
    "           [11, 51]])\n",
    "    Slice every other column of both matrices in the np_3SD array\n",
    "    array([[[ 10,  30,  50],\n",
    "            [110, 310, 510]],\n",
    "    \n",
    "           [[110, 130, 150],\n",
    "            [510, 530,  50]]])\n",
    "    Use conditional slicing to check if the individual elements of each array satisfy a given condition on np_1SD(e.g. greater than 8)\n",
    "    array([False,  True,  True,  True,  True])\n",
    "    Add a second condition and disaply which individual elements satisfy both np_1SD , np_2SD and np_3SD (e.g. greater than 10 and odd)\n",
    "\n"
   ]
  },
  {
   "cell_type": "code",
   "execution_count": 60,
   "id": "88ed5d23",
   "metadata": {},
   "outputs": [
    {
     "data": {
      "text/plain": [
       "array([[200, 300, 400, 500, 600],\n",
       "       [430, 540, 650, 760, 870],\n",
       "       [110, 220, 330, 440, 550]])"
      ]
     },
     "execution_count": 60,
     "metadata": {},
     "output_type": "execute_result"
    }
   ],
   "source": [
    "np_2SD"
   ]
  },
  {
   "cell_type": "markdown",
   "id": "bee16edf",
   "metadata": {},
   "source": [
    " Slice the first column of the np_2SD array\n",
    "    array([200, 430, 110])"
   ]
  },
  {
   "cell_type": "code",
   "execution_count": 61,
   "id": "a8f8864f-8350-4f4f-b472-76b39b4662a8",
   "metadata": {},
   "outputs": [
    {
     "name": "stdout",
     "output_type": "stream",
     "text": [
      "First column:\n",
      " [200 430 110]\n"
     ]
    }
   ],
   "source": [
    "#   Slice the first column of array_2\n",
    "first_column = np_2SD[:,0]\n",
    "print(\"First column:\\n\", first_column)"
   ]
  },
  {
   "cell_type": "markdown",
   "id": "dfa1b19b",
   "metadata": {},
   "source": [
    " Slice the last column of the np_2SD  array\n",
    "    array([600, 870, 550])"
   ]
  },
  {
   "cell_type": "code",
   "execution_count": 57,
   "id": "a6ba0f2c",
   "metadata": {},
   "outputs": [
    {
     "name": "stdout",
     "output_type": "stream",
     "text": [
      "\n",
      "Last column:\n",
      " [600 870 550]\n"
     ]
    }
   ],
   "source": [
    "#   Slice the last column of np_2SD\n",
    "last_column = np_2SD[:, -1]\n",
    "print(\"\\nLast column:\\n\", last_column)"
   ]
  },
  {
   "cell_type": "markdown",
   "id": "c523774d",
   "metadata": {},
   "source": [
    "Slice the second row of the np_2SD array\n",
    "    array([430, 540, 650, 760, 870])"
   ]
  },
  {
   "cell_type": "code",
   "execution_count": 70,
   "id": "3cb88fc3",
   "metadata": {},
   "outputs": [
    {
     "name": "stdout",
     "output_type": "stream",
     "text": [
      "Second row:\n",
      " [[430 540 650 760 870]]\n"
     ]
    }
   ],
   "source": [
    "#   Slice the second row of array_2\n",
    "second_column = np_2SD[1:2,]\n",
    "print(\"Second row:\\n\", second_column)"
   ]
  },
  {
   "cell_type": "code",
   "execution_count": 71,
   "id": "83e8c07a",
   "metadata": {},
   "outputs": [
    {
     "name": "stdout",
     "output_type": "stream",
     "text": [
      "\n",
      "Last two of second row:\n",
      " [760 870]\n"
     ]
    }
   ],
   "source": [
    "#   Slice the last two columns of the second row of np_2SD\n",
    "last_two_second_row = np_2SD[1, -2:]\n",
    "print(\"\\nLast two of second row:\\n\", last_two_second_row)"
   ]
  },
  {
   "cell_type": "code",
   "execution_count": 72,
   "id": "b59afa3e",
   "metadata": {},
   "outputs": [
    {
     "name": "stdout",
     "output_type": "stream",
     "text": [
      "\n",
      "Second row except last two:\n",
      " [430 540 650]\n"
     ]
    }
   ],
   "source": [
    "#   Slice the second row of np_2SD excluding the last two columns\n",
    "second_row_except_last_two = np_2SD[1, :-2]\n",
    "print(\"\\nSecond row except last two:\\n\", second_row_except_last_two)\n"
   ]
  },
  {
   "cell_type": "code",
   "execution_count": 74,
   "id": "77523f1a",
   "metadata": {},
   "outputs": [
    {
     "name": "stdout",
     "output_type": "stream",
     "text": [
      "\n",
      "Sliced 2D:\n",
      " [[430 540 650 760]\n",
      " [110 220 330 440]]\n"
     ]
    }
   ],
   "source": [
    "#   Slice everything excluding the first row and last column of np_2SD\n",
    "sliced_2d = np_2SD[1:, :-1]\n",
    "print(\"\\nSliced 2D:\\n\", sliced_2d)"
   ]
  },
  {
   "cell_type": "code",
   "execution_count": 77,
   "id": "a627c0a7",
   "metadata": {},
   "outputs": [
    {
     "data": {
      "text/plain": [
       "array([[[100, 200, 300, 400, 500],\n",
       "        [110, 210, 310, 401, 510]],\n",
       "\n",
       "       [[110, 120, 130, 140, 150],\n",
       "        [510, 520, 530, 540, 500]]])"
      ]
     },
     "execution_count": 77,
     "metadata": {},
     "output_type": "execute_result"
    }
   ],
   "source": [
    "np_3SD"
   ]
  },
  {
   "cell_type": "code",
   "execution_count": 78,
   "id": "2d64e8e9",
   "metadata": {},
   "outputs": [
    {
     "name": "stdout",
     "output_type": "stream",
     "text": [
      "\n",
      "Sliced 3D:\n",
      " [[[100 300 500]\n",
      "  [110 310 510]]\n",
      "\n",
      " [[110 130 150]\n",
      "  [510 530 500]]]\n"
     ]
    }
   ],
   "source": [
    "#   Slice the 1st, 3rd, and 5th columns of the np_3SD array\n",
    "sliced_3d = np_3SD[:, :, [0, 2, 4]]\n",
    "print(\"\\nSliced 3D:\\n\", sliced_3d)"
   ]
  },
  {
   "cell_type": "code",
   "execution_count": 83,
   "id": "e0998022",
   "metadata": {},
   "outputs": [
    {
     "name": "stdout",
     "output_type": "stream",
     "text": [
      "\n",
      "Sliced 3D every other:\n",
      " [[[100 300 500]\n",
      "  [110 310 510]]\n",
      "\n",
      " [[110 130 150]\n",
      "  [510 530 500]]]\n"
     ]
    }
   ],
   "source": [
    "#   Slice every other column of both matrices in the np_3SD array\n",
    "sliced_3d_every_other = np_3SD[:, :, ::2]\n",
    "print(\"\\nSliced 3D every other:\\n\", sliced_3d_every_other)"
   ]
  },
  {
   "cell_type": "code",
   "execution_count": 85,
   "id": "22ae1505",
   "metadata": {},
   "outputs": [
    {
     "data": {
      "text/plain": [
       "array([100, 110, 120, 130, 140])"
      ]
     },
     "execution_count": 85,
     "metadata": {},
     "output_type": "execute_result"
    }
   ],
   "source": [
    "np_1SD"
   ]
  },
  {
   "cell_type": "code",
   "execution_count": 88,
   "id": "bf0ac44a",
   "metadata": {},
   "outputs": [
    {
     "name": "stdout",
     "output_type": "stream",
     "text": [
      "\n",
      "Condition on np_1SD (>8):\n",
      " [False  True  True  True  True]\n"
     ]
    }
   ],
   "source": [
    "#   Conditional slicing on np_1SD (greater than 100)\n",
    "condition_1sd = np_1SD > 100\n",
    "print(\"\\nCondition on np_1SD (>8):\\n\", condition_1sd)\n"
   ]
  },
  {
   "cell_type": "code",
   "execution_count": 91,
   "id": "692b8048",
   "metadata": {},
   "outputs": [
    {
     "name": "stdout",
     "output_type": "stream",
     "text": [
      "\n",
      "np_1SD condition (>10 and odd):\n",
      " [False False False False False]\n"
     ]
    }
   ],
   "source": [
    "#   Conditional slicing on np_1SD, np_2SD, and np_3SD (greater than 10 and odd)\n",
    "condition_1sd_both = (np_1SD > 10) & (np_1SD % 2 != 0)\n",
    "print(\"\\nnp_1SD condition (>10 and odd):\\n\", condition_1sd_both)"
   ]
  },
  {
   "cell_type": "code",
   "execution_count": 92,
   "id": "2311ca95",
   "metadata": {},
   "outputs": [
    {
     "name": "stdout",
     "output_type": "stream",
     "text": [
      "\n",
      "np_2SD condition (>10 and odd):\n",
      " [[False False False False False]\n",
      " [False False False False False]\n",
      " [False False False False False]]\n"
     ]
    }
   ],
   "source": [
    "condition_2sd_both = (np_2SD > 10) & (np_2SD % 2 != 0)\n",
    "print(\"\\nnp_2SD condition (>10 and odd):\\n\", condition_2sd_both)"
   ]
  },
  {
   "cell_type": "code",
   "execution_count": 93,
   "id": "41f88d93",
   "metadata": {},
   "outputs": [
    {
     "name": "stdout",
     "output_type": "stream",
     "text": [
      "\n",
      "np_3SD condition (>10 and odd):\n",
      " [[[False False False False False]\n",
      "  [False False False  True False]]\n",
      "\n",
      " [[False False False False False]\n",
      "  [False False False False False]]]\n"
     ]
    }
   ],
   "source": [
    "condition_3sd_both = (np_3SD > 10) & (np_3SD % 2 != 0)\n",
    "print(\"\\nnp_3SD condition (>10 and odd):\\n\", condition_3sd_both)"
   ]
  }
 ],
 "metadata": {
  "kernelspec": {
   "display_name": "base",
   "language": "python",
   "name": "python3"
  },
  "language_info": {
   "codemirror_mode": {
    "name": "ipython",
    "version": 3
   },
   "file_extension": ".py",
   "mimetype": "text/x-python",
   "name": "python",
   "nbconvert_exporter": "python",
   "pygments_lexer": "ipython3",
   "version": "3.12.7"
  }
 },
 "nbformat": 4,
 "nbformat_minor": 5
}
