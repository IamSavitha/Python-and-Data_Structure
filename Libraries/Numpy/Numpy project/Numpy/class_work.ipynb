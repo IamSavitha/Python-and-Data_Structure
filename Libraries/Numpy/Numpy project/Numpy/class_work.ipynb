{
 "cells": [
  {
   "cell_type": "code",
   "execution_count": 203,
   "id": "98ff75fb-52b6-4639-9ad9-11a9e11cf8ae",
   "metadata": {},
   "outputs": [],
   "source": [
    "import numpy as np"
   ]
  },
  {
   "cell_type": "markdown",
   "id": "e8d2fca9",
   "metadata": {},
   "source": [
    "# Step 1: Set print options"
   ]
  },
  {
   "cell_type": "code",
   "execution_count": 204,
   "id": "f7152085-88ff-48c7-9b28-5a244188a8de",
   "metadata": {},
   "outputs": [],
   "source": [
    "np.set_printoptions(suppress = True, linewidth = 100, precision = 2)"
   ]
  },
  {
   "cell_type": "markdown",
   "id": "93183b0f",
   "metadata": {},
   "source": [
    "# Step 2: Load the raw data"
   ]
  },
  {
   "cell_type": "code",
   "execution_count": 205,
   "id": "9e14b81c-630f-48f7-bf41-d6a78dc4da3c",
   "metadata": {},
   "outputs": [],
   "source": [
    "raw_data_np = np.genfromtxt(\"loan-data.csv\", delimiter = ';', skip_header = 1, autostrip = True,encoding = \"cp855\")"
   ]
  },
  {
   "cell_type": "code",
   "execution_count": 206,
   "id": "8df9dd69-1c29-4517-82a5-d0ffd1559a8e",
   "metadata": {},
   "outputs": [
    {
     "data": {
      "text/plain": [
       "array([[48010226.  ,         nan,    35000.  , ...,         nan,         nan,     9452.96],\n",
       "       [57693261.  ,         nan,    30000.  , ...,         nan,         nan,     4679.7 ],\n",
       "       [59432726.  ,         nan,    15000.  , ...,         nan,         nan,     1969.83],\n",
       "       ...,\n",
       "       [50415990.  ,         nan,    10000.  , ...,         nan,         nan,     2185.64],\n",
       "       [46154151.  ,         nan,         nan, ...,         nan,         nan,     3199.4 ],\n",
       "       [66055249.  ,         nan,    10000.  , ...,         nan,         nan,      301.9 ]])"
      ]
     },
     "execution_count": 206,
     "metadata": {},
     "output_type": "execute_result"
    }
   ],
   "source": [
    "raw_data_np"
   ]
  },
  {
   "cell_type": "markdown",
   "id": "3b9d4d85",
   "metadata": {},
   "source": [
    "# Step 3: Check missing data"
   ]
  },
  {
   "cell_type": "code",
   "execution_count": 207,
   "id": "d04dfab5-b7ff-41c5-8dba-427f5565317c",
   "metadata": {},
   "outputs": [
    {
     "data": {
      "text/plain": [
       "88005"
      ]
     },
     "execution_count": 207,
     "metadata": {},
     "output_type": "execute_result"
    }
   ],
   "source": [
    "np.isnan(raw_data_np).sum()"
   ]
  },
  {
   "cell_type": "markdown",
   "id": "d5b98cc3",
   "metadata": {},
   "source": [
    "# Step 4: Temporary fill and mean values"
   ]
  },
  {
   "cell_type": "code",
   "execution_count": 208,
   "id": "f886627a-915b-458d-a1b6-a73d9222a504",
   "metadata": {},
   "outputs": [],
   "source": [
    "temporary_fill = np.nanmax(raw_data_np) + 1"
   ]
  },
  {
   "cell_type": "code",
   "execution_count": 209,
   "id": "8c79c7e2-6b23-43e3-ae63-3db73dfd77fa",
   "metadata": {},
   "outputs": [
    {
     "name": "stderr",
     "output_type": "stream",
     "text": [
      "/var/folders/1k/26p0wvvn3pq_5gdg1nyk14340000gn/T/ipykernel_16697/3589640931.py:1: RuntimeWarning: Mean of empty slice\n",
      "  temporary_mean = np.nanmean(raw_data_np, axis = 0)\n"
     ]
    }
   ],
   "source": [
    "temporary_mean = np.nanmean(raw_data_np, axis = 0)"
   ]
  },
  {
   "cell_type": "code",
   "execution_count": 210,
   "id": "25b380fe-792c-4b1b-9055-07a67186f9df",
   "metadata": {},
   "outputs": [
    {
     "data": {
      "text/plain": [
       "array([54015809.19,         nan,    15273.46,         nan,    15311.04,         nan,       16.62,\n",
       "            440.92,         nan,         nan,         nan,         nan,         nan,     3143.85])"
      ]
     },
     "execution_count": 210,
     "metadata": {},
     "output_type": "execute_result"
    }
   ],
   "source": [
    "temporary_mean"
   ]
  },
  {
   "cell_type": "code",
   "execution_count": 211,
   "id": "28e55ffa-132d-4fe0-a4a0-5ad3761e6801",
   "metadata": {},
   "outputs": [
    {
     "name": "stderr",
     "output_type": "stream",
     "text": [
      "/var/folders/1k/26p0wvvn3pq_5gdg1nyk14340000gn/T/ipykernel_16697/2016062449.py:1: RuntimeWarning: All-NaN slice encountered\n",
      "  temporary_stats = np.array([np.nanmin(raw_data_np,axis=0),\n",
      "/var/folders/1k/26p0wvvn3pq_5gdg1nyk14340000gn/T/ipykernel_16697/2016062449.py:2: RuntimeWarning: All-NaN slice encountered\n",
      "  temporary_mean,np.nanmax(raw_data_np, axis = 0)])\n"
     ]
    }
   ],
   "source": [
    "temporary_stats = np.array([np.nanmin(raw_data_np,axis=0),\n",
    "                            temporary_mean,np.nanmax(raw_data_np, axis = 0)])"
   ]
  },
  {
   "cell_type": "code",
   "execution_count": 212,
   "id": "5c69e141-9a36-4d00-b98d-b7a7d4e17e83",
   "metadata": {},
   "outputs": [
    {
     "data": {
      "text/plain": [
       "array([[  373332.  ,         nan,     1000.  ,         nan,     1000.  ,         nan,        6.  ,\n",
       "              31.42,         nan,         nan,         nan,         nan,         nan,        0.  ],\n",
       "       [54015809.19,         nan,    15273.46,         nan,    15311.04,         nan,       16.62,\n",
       "             440.92,         nan,         nan,         nan,         nan,         nan,     3143.85],\n",
       "       [68616519.  ,         nan,    35000.  ,         nan,    35000.  ,         nan,       28.99,\n",
       "            1372.97,         nan,         nan,         nan,         nan,         nan,    41913.62]])"
      ]
     },
     "execution_count": 212,
     "metadata": {},
     "output_type": "execute_result"
    }
   ],
   "source": [
    "temporary_stats"
   ]
  },
  {
   "cell_type": "code",
   "execution_count": 213,
   "id": "2158551d-0c8a-4574-bffc-f639a80ee733",
   "metadata": {},
   "outputs": [
    {
     "data": {
      "text/plain": [
       "array([[ True],\n",
       "       [False],\n",
       "       [False],\n",
       "       [False],\n",
       "       [False],\n",
       "       [False],\n",
       "       [False],\n",
       "       [False]])"
      ]
     },
     "execution_count": 213,
     "metadata": {},
     "output_type": "execute_result"
    }
   ],
   "source": [
    "np.argwhere(np.isnan(temporary_mean)) == True"
   ]
  },
  {
   "cell_type": "markdown",
   "id": "a21c25af",
   "metadata": {},
   "source": [
    "# Step 6: Split the dataset"
   ]
  },
  {
   "cell_type": "code",
   "execution_count": 214,
   "id": "841e8462-cf27-4009-ab74-572f6b51b7c5",
   "metadata": {},
   "outputs": [
    {
     "data": {
      "text/plain": [
       "array([ 1,  3,  5,  8,  9, 10, 11, 12])"
      ]
     },
     "execution_count": 214,
     "metadata": {},
     "output_type": "execute_result"
    }
   ],
   "source": [
    "columns_strings = np.argwhere(np.isnan(temporary_mean)).squeeze()\n",
    "columns_strings"
   ]
  },
  {
   "cell_type": "code",
   "execution_count": 215,
   "id": "62882a34-4330-4174-bb08-118aac8ce5cc",
   "metadata": {},
   "outputs": [
    {
     "data": {
      "text/plain": [
       "array([ 0,  2,  4,  6,  7, 13])"
      ]
     },
     "execution_count": 215,
     "metadata": {},
     "output_type": "execute_result"
    }
   ],
   "source": [
    "columns_numeric = np.argwhere(np.isnan(temporary_mean) == False).squeeze()\n",
    "columns_numeric"
   ]
  },
  {
   "cell_type": "markdown",
   "id": "dad39569",
   "metadata": {},
   "source": [
    "# Load the string and numeric columns separately"
   ]
  },
  {
   "cell_type": "code",
   "execution_count": 216,
   "id": "05816402-f4cf-484b-a606-9d070f789400",
   "metadata": {},
   "outputs": [],
   "source": [
    "loan_data_strings = np.genfromtxt(\"loan-data.csv\",\n",
    "delimiter = ';',\n",
    "skip_header = 1,\n",
    "autostrip = True,\n",
    "usecols = columns_strings, dtype = str,encoding =\n",
    "\"cp855\")"
   ]
  },
  {
   "cell_type": "code",
   "execution_count": 217,
   "id": "8de2cb82-819c-46c9-91c2-80efcaa91c3d",
   "metadata": {},
   "outputs": [
    {
     "data": {
      "text/plain": [
       "array([['May-15', 'Current', '36 months', ..., 'Verified',\n",
       "        'https://www.lendingclub.com/browse/loanDetail.action?loan_id=48010226', 'CA'],\n",
       "       ['', 'Current', '36 months', ..., 'Source Verified',\n",
       "        'https://www.lendingclub.com/browse/loanDetail.action?loan_id=57693261', 'NY'],\n",
       "       ['Sep-15', 'Current', '36 months', ..., 'Verified',\n",
       "        'https://www.lendingclub.com/browse/loanDetail.action?loan_id=59432726', 'PA'],\n",
       "       ...,\n",
       "       ['Jun-15', 'Current', '36 months', ..., 'Source Verified',\n",
       "        'https://www.lendingclub.com/browse/loanDetail.action?loan_id=50415990', 'CA'],\n",
       "       ['Apr-15', 'Current', '36 months', ..., 'Source Verified',\n",
       "        'https://www.lendingclub.com/browse/loanDetail.action?loan_id=46154151', 'OH'],\n",
       "       ['Dec-15', 'Current', '36 months', ..., '',\n",
       "        'https://www.lendingclub.com/browse/loanDetail.action?loan_id=66055249', 'IL']],\n",
       "      dtype='<U69')"
      ]
     },
     "execution_count": 217,
     "metadata": {},
     "output_type": "execute_result"
    }
   ],
   "source": [
    "loan_data_strings"
   ]
  },
  {
   "cell_type": "code",
   "execution_count": 218,
   "id": "4984fbd2-808c-4558-988f-dd03fd67191f",
   "metadata": {},
   "outputs": [],
   "source": [
    "loan_data_numeric = np.genfromtxt(\"loan-data.csv\",\n",
    "delimiter = ';',\n",
    "autostrip = True, skip_header = 1,\n",
    "usecols = columns_numeric, filling_values =\n",
    "temporary_fill,encoding = \"cp855\")"
   ]
  },
  {
   "cell_type": "code",
   "execution_count": 219,
   "id": "d2e1e6d1-bc64-4256-be6d-297754500338",
   "metadata": {},
   "outputs": [
    {
     "data": {
      "text/plain": [
       "array([[48010226.  ,    35000.  ,    35000.  ,       13.33,     1184.86,     9452.96],\n",
       "       [57693261.  ,    30000.  ,    30000.  , 68616520.  ,      938.57,     4679.7 ],\n",
       "       [59432726.  ,    15000.  ,    15000.  , 68616520.  ,      494.86,     1969.83],\n",
       "       ...,\n",
       "       [50415990.  ,    10000.  ,    10000.  , 68616520.  , 68616520.  ,     2185.64],\n",
       "       [46154151.  , 68616520.  ,    10000.  ,       16.55,      354.3 ,     3199.4 ],\n",
       "       [66055249.  ,    10000.  ,    10000.  , 68616520.  ,      309.97,      301.9 ]])"
      ]
     },
     "execution_count": 219,
     "metadata": {},
     "output_type": "execute_result"
    }
   ],
   "source": [
    "loan_data_numeric"
   ]
  },
  {
   "cell_type": "markdown",
   "id": "a2d39bcd",
   "metadata": {},
   "source": [
    "# Step 7: Load headers"
   ]
  },
  {
   "cell_type": "code",
   "execution_count": 220,
   "id": "4aecb696-c0db-4aca-8968-3ee0acc56be5",
   "metadata": {},
   "outputs": [],
   "source": [
    "header_full = np.genfromtxt(\"loan-data.csv\",delimiter = ';',autostrip = True,skip_footer = raw_data_np.shape[0],\n",
    "                            dtype = str,encoding = \"cp855\") "
   ]
  },
  {
   "cell_type": "code",
   "execution_count": 221,
   "id": "c67930cd-0525-442a-b649-32a9e1e5f9c3",
   "metadata": {},
   "outputs": [
    {
     "data": {
      "text/plain": [
       "array(['id', 'issue_d', 'loan_amnt', 'loan_status', 'funded_amnt', 'term', 'int_rate',\n",
       "       'installment', 'grade', 'sub_grade', 'verification_status', 'url', 'addr_state',\n",
       "       'total_pymnt'], dtype='<U19')"
      ]
     },
     "execution_count": 221,
     "metadata": {},
     "output_type": "execute_result"
    }
   ],
   "source": [
    "header_full"
   ]
  },
  {
   "cell_type": "code",
   "execution_count": 222,
   "id": "95c9493c-6dda-4367-ae9d-bb432f8d5942",
   "metadata": {},
   "outputs": [],
   "source": [
    "header_strings, header_numeric = header_full[columns_strings], header_full[columns_numeric]"
   ]
  },
  {
   "cell_type": "markdown",
   "id": "e5188109",
   "metadata": {},
   "source": [
    "# Step 8: Creating Checkpoints"
   ]
  },
  {
   "cell_type": "code",
   "execution_count": 223,
   "id": "8ba45746-43ae-4b81-94ef-d3968fb4a2cb",
   "metadata": {},
   "outputs": [],
   "source": [
    "def checkpoint(file_name, checkpoint_header, checkpoint_data):\n",
    "    np.savez(file_name, header = checkpoint_header, data = checkpoint_data)\n",
    "    checkpoint_variable = np.load(file_name + \".npz\")\n",
    "    return(checkpoint_variable)"
   ]
  },
  {
   "cell_type": "code",
   "execution_count": 224,
   "id": "336f06cd-f0aa-4a7f-8d3d-3b80ea2d738b",
   "metadata": {},
   "outputs": [],
   "source": [
    "checkpoint_test = checkpoint(\"checkpoint-test\", header_strings, loan_data_strings)"
   ]
  },
  {
   "cell_type": "code",
   "execution_count": 225,
   "id": "04f1e328-0db4-491b-bb24-baa92347b707",
   "metadata": {},
   "outputs": [
    {
     "data": {
      "text/plain": [
       "array([['May-15', 'Current', '36 months', ..., 'Verified',\n",
       "        'https://www.lendingclub.com/browse/loanDetail.action?loan_id=48010226', 'CA'],\n",
       "       ['', 'Current', '36 months', ..., 'Source Verified',\n",
       "        'https://www.lendingclub.com/browse/loanDetail.action?loan_id=57693261', 'NY'],\n",
       "       ['Sep-15', 'Current', '36 months', ..., 'Verified',\n",
       "        'https://www.lendingclub.com/browse/loanDetail.action?loan_id=59432726', 'PA'],\n",
       "       ...,\n",
       "       ['Jun-15', 'Current', '36 months', ..., 'Source Verified',\n",
       "        'https://www.lendingclub.com/browse/loanDetail.action?loan_id=50415990', 'CA'],\n",
       "       ['Apr-15', 'Current', '36 months', ..., 'Source Verified',\n",
       "        'https://www.lendingclub.com/browse/loanDetail.action?loan_id=46154151', 'OH'],\n",
       "       ['Dec-15', 'Current', '36 months', ..., '',\n",
       "        'https://www.lendingclub.com/browse/loanDetail.action?loan_id=66055249', 'IL']],\n",
       "      dtype='<U69')"
      ]
     },
     "execution_count": 225,
     "metadata": {},
     "output_type": "execute_result"
    }
   ],
   "source": [
    "checkpoint_test['data']"
   ]
  },
  {
   "cell_type": "code",
   "execution_count": 226,
   "id": "00e03bd1-1792-480e-ba9a-31dff886348a",
   "metadata": {},
   "outputs": [
    {
     "data": {
      "text/plain": [
       "True"
      ]
     },
     "execution_count": 226,
     "metadata": {},
     "output_type": "execute_result"
    }
   ],
   "source": [
    "np.array_equal(checkpoint_test['data'], loan_data_strings)"
   ]
  },
  {
   "cell_type": "markdown",
   "id": "1b914927",
   "metadata": {},
   "source": [
    "# Step 9: Manipulating String Columns"
   ]
  },
  {
   "cell_type": "markdown",
   "id": "4c6c96fe",
   "metadata": {},
   "source": [
    "Issue Date Handling"
   ]
  },
  {
   "cell_type": "code",
   "execution_count": 227,
   "id": "3c802349-4406-4cb3-b7f8-875c9d8953d9",
   "metadata": {},
   "outputs": [
    {
     "data": {
      "text/plain": [
       "array(['issue_d', 'loan_status', 'term', 'grade', 'sub_grade', 'verification_status', 'url',\n",
       "       'addr_state'], dtype='<U19')"
      ]
     },
     "execution_count": 227,
     "metadata": {},
     "output_type": "execute_result"
    }
   ],
   "source": [
    "header_strings"
   ]
  },
  {
   "cell_type": "code",
   "execution_count": 228,
   "id": "eef00e07-d83d-43f5-971f-322e463099da",
   "metadata": {},
   "outputs": [],
   "source": [
    "header_strings[0] = \"issue_date\""
   ]
  },
  {
   "cell_type": "code",
   "execution_count": 229,
   "id": "90a1adc0-9313-4a03-b4a8-0b8e94a30672",
   "metadata": {},
   "outputs": [
    {
     "data": {
      "text/plain": [
       "array([['May-15', 'Current', '36 months', ..., 'Verified',\n",
       "        'https://www.lendingclub.com/browse/loanDetail.action?loan_id=48010226', 'CA'],\n",
       "       ['', 'Current', '36 months', ..., 'Source Verified',\n",
       "        'https://www.lendingclub.com/browse/loanDetail.action?loan_id=57693261', 'NY'],\n",
       "       ['Sep-15', 'Current', '36 months', ..., 'Verified',\n",
       "        'https://www.lendingclub.com/browse/loanDetail.action?loan_id=59432726', 'PA'],\n",
       "       ...,\n",
       "       ['Jun-15', 'Current', '36 months', ..., 'Source Verified',\n",
       "        'https://www.lendingclub.com/browse/loanDetail.action?loan_id=50415990', 'CA'],\n",
       "       ['Apr-15', 'Current', '36 months', ..., 'Source Verified',\n",
       "        'https://www.lendingclub.com/browse/loanDetail.action?loan_id=46154151', 'OH'],\n",
       "       ['Dec-15', 'Current', '36 months', ..., '',\n",
       "        'https://www.lendingclub.com/browse/loanDetail.action?loan_id=66055249', 'IL']],\n",
       "      dtype='<U69')"
      ]
     },
     "execution_count": 229,
     "metadata": {},
     "output_type": "execute_result"
    }
   ],
   "source": [
    "loan_data_strings"
   ]
  },
  {
   "cell_type": "code",
   "execution_count": 230,
   "id": "f7b6005b-2368-4993-9848-f0cba7450a38",
   "metadata": {},
   "outputs": [
    {
     "data": {
      "text/plain": [
       "array(['', 'Apr-15', 'Aug-15', 'Dec-15', 'Feb-15', 'Jan-15', 'Jul-15', 'Jun-15', 'Mar-15',\n",
       "       'May-15', 'Nov-15', 'Oct-15', 'Sep-15'], dtype='<U69')"
      ]
     },
     "execution_count": 230,
     "metadata": {},
     "output_type": "execute_result"
    }
   ],
   "source": [
    "np.unique(loan_data_strings[:,0])"
   ]
  },
  {
   "cell_type": "markdown",
   "id": "89ad4191",
   "metadata": {},
   "source": [
    "Strip year "
   ]
  },
  {
   "cell_type": "code",
   "execution_count": 231,
   "id": "b48cbc1e-1c69-45d3-adf3-1a50f25f63ee",
   "metadata": {},
   "outputs": [
    {
     "data": {
      "text/plain": [
       "array(['May', '', 'Sep', ..., 'Jun', 'Apr', 'Dec'], dtype='<U69')"
      ]
     },
     "execution_count": 231,
     "metadata": {},
     "output_type": "execute_result"
    }
   ],
   "source": [
    "loan_data_strings[:,0] = np.chararray.strip(loan_data_strings[:,0], \"-15\")\n",
    "loan_data_strings[:,0]"
   ]
  },
  {
   "cell_type": "code",
   "execution_count": 232,
   "id": "6a7401f1-56b6-4dfe-9cd9-662de2cfb2c0",
   "metadata": {},
   "outputs": [],
   "source": [
    "months = np.array(['', 'Jan', 'Feb', 'Mar', 'Apr', 'May', 'Jun', 'Jul', 'Aug', 'Sep', 'Oct', 'Nov', 'Dec'])"
   ]
  },
  {
   "cell_type": "markdown",
   "id": "60a3ec28",
   "metadata": {},
   "source": [
    "Map month to numbers"
   ]
  },
  {
   "cell_type": "code",
   "execution_count": 233,
   "id": "eafe8bb4-eae0-480d-90e5-ab585e02cad3",
   "metadata": {},
   "outputs": [],
   "source": [
    "for i in range(13):\n",
    "        loan_data_strings[:,0] = np.where(loan_data_strings[:,0] == months[i],\n",
    "                                          i,\n",
    "                                          loan_data_strings[:,0])"
   ]
  },
  {
   "cell_type": "code",
   "execution_count": 234,
   "id": "8299e0c2-6584-46ef-b93f-b5dee271edf6",
   "metadata": {},
   "outputs": [
    {
     "data": {
      "text/plain": [
       "array(['0', '1', '10', '11', '12', '2', '3', '4', '5', '6', '7', '8', '9'], dtype='<U69')"
      ]
     },
     "execution_count": 234,
     "metadata": {},
     "output_type": "execute_result"
    }
   ],
   "source": [
    "np.unique(loan_data_strings[:,0])"
   ]
  },
  {
   "cell_type": "code",
   "execution_count": 235,
   "id": "44e3409b",
   "metadata": {},
   "outputs": [
    {
     "data": {
      "text/plain": [
       "array(['5', '0', '9', ..., '6', '4', '12'], dtype='<U69')"
      ]
     },
     "execution_count": 235,
     "metadata": {},
     "output_type": "execute_result"
    }
   ],
   "source": [
    "loan_data_strings[:,0]"
   ]
  },
  {
   "cell_type": "markdown",
   "id": "a10dbbdb",
   "metadata": {},
   "source": [
    "# Loan Status Handling"
   ]
  },
  {
   "cell_type": "code",
   "execution_count": 236,
   "id": "3172b0b9-d2df-48f8-991b-8b094a71d367",
   "metadata": {},
   "outputs": [
    {
     "data": {
      "text/plain": [
       "array(['', 'Charged Off', 'Current', 'Default', 'Fully Paid', 'In Grace Period', 'Issued',\n",
       "       'Late (16-30 days)', 'Late (31-120 days)'], dtype='<U69')"
      ]
     },
     "execution_count": 236,
     "metadata": {},
     "output_type": "execute_result"
    }
   ],
   "source": [
    "np.unique(loan_data_strings[:,1])"
   ]
  },
  {
   "cell_type": "code",
   "execution_count": 237,
   "id": "e89f3981-e6ae-484e-9b02-89d8216b2150",
   "metadata": {},
   "outputs": [],
   "source": [
    "status_bad = np.array(['','Charged Off','Default','Late (31-120 days)'])"
   ]
  },
  {
   "cell_type": "code",
   "execution_count": 238,
   "id": "280dc6aa-8999-4541-980c-5907464162b4",
   "metadata": {},
   "outputs": [],
   "source": [
    "loan_data_strings[:,1] = np.where(np.isin(loan_data_strings[:,1], status_bad),0,1)"
   ]
  },
  {
   "cell_type": "code",
   "execution_count": 239,
   "id": "14e762ea-8c9b-4cf5-8922-2e47532b09e1",
   "metadata": {},
   "outputs": [
    {
     "data": {
      "text/plain": [
       "array(['0', '1'], dtype='<U69')"
      ]
     },
     "execution_count": 239,
     "metadata": {},
     "output_type": "execute_result"
    }
   ],
   "source": [
    "np.unique(loan_data_strings[:,1])"
   ]
  },
  {
   "cell_type": "code",
   "execution_count": 240,
   "id": "9c20bcab",
   "metadata": {},
   "outputs": [
    {
     "data": {
      "text/plain": [
       "array(['1', '1', '1', ..., '1', '1', '1'], dtype='<U69')"
      ]
     },
     "execution_count": 240,
     "metadata": {},
     "output_type": "execute_result"
    }
   ],
   "source": [
    "loan_data_strings[:,1]"
   ]
  },
  {
   "cell_type": "markdown",
   "id": "b5f0684c",
   "metadata": {},
   "source": [
    "# Term Handling\n",
    "Remove ' months' text and convert empty terms to 60"
   ]
  },
  {
   "cell_type": "code",
   "execution_count": 241,
   "id": "6a6d43bf-c43d-4206-80e4-8413c8912ff2",
   "metadata": {},
   "outputs": [
    {
     "data": {
      "text/plain": [
       "array(['', '36 months', '60 months'], dtype='<U69')"
      ]
     },
     "execution_count": 241,
     "metadata": {},
     "output_type": "execute_result"
    }
   ],
   "source": [
    "np.unique(loan_data_strings[:,2])"
   ]
  },
  {
   "cell_type": "code",
   "execution_count": 242,
   "id": "1c19cce4-3e51-42eb-9744-19572d7f5b8e",
   "metadata": {},
   "outputs": [
    {
     "data": {
      "text/plain": [
       "array(['36', '36', '36', ..., '36', '36', '36'], dtype='<U69')"
      ]
     },
     "execution_count": 242,
     "metadata": {},
     "output_type": "execute_result"
    }
   ],
   "source": [
    "loan_data_strings[:,2] = np.chararray.strip(loan_data_strings[:,2], \" months\")\n",
    "loan_data_strings[:,2]"
   ]
  },
  {
   "cell_type": "code",
   "execution_count": 243,
   "id": "7938143e-766e-4be9-8fd9-26eafecdbf2a",
   "metadata": {},
   "outputs": [],
   "source": [
    "header_strings[2] = \"term_months\""
   ]
  },
  {
   "cell_type": "code",
   "execution_count": 244,
   "id": "8c4f21a0-6c4c-48dd-825d-20c31c06235f",
   "metadata": {},
   "outputs": [
    {
     "data": {
      "text/plain": [
       "array(['', '36', '60'], dtype='<U69')"
      ]
     },
     "execution_count": 244,
     "metadata": {},
     "output_type": "execute_result"
    }
   ],
   "source": [
    "np.unique(loan_data_strings[:,2])"
   ]
  },
  {
   "cell_type": "code",
   "execution_count": 245,
   "id": "7fd9ce3c-1c83-41af-8c4d-c19d5781bc06",
   "metadata": {},
   "outputs": [],
   "source": [
    "loan_data_strings[:, 2] = np.where(loan_data_strings[:, 2] == '', '60', loan_data_strings[:, 2])"
   ]
  },
  {
   "cell_type": "markdown",
   "id": "97f5306f",
   "metadata": {},
   "source": [
    "filling missing values with 60 as default assumption "
   ]
  },
  {
   "cell_type": "markdown",
   "id": "ece58c3c",
   "metadata": {},
   "source": [
    "# Grade/Subgrade/Verification/URL/State address   Assignment "
   ]
  },
  {
   "cell_type": "markdown",
   "id": "4b2542a2",
   "metadata": {},
   "source": [
    "# Grade and Subgrade \n",
    "- 3 and 4th columns"
   ]
  },
  {
   "cell_type": "code",
   "execution_count": 246,
   "id": "a3a35739",
   "metadata": {},
   "outputs": [
    {
     "data": {
      "text/plain": [
       "array(['', 'A', 'B', 'C', 'D', 'E', 'F', 'G'], dtype='<U69')"
      ]
     },
     "execution_count": 246,
     "metadata": {},
     "output_type": "execute_result"
    }
   ],
   "source": [
    "np.unique(loan_data_strings[:, 3])"
   ]
  },
  {
   "cell_type": "code",
   "execution_count": 247,
   "id": "023a39f4",
   "metadata": {},
   "outputs": [
    {
     "data": {
      "text/plain": [
       "array(['', 'A1', 'A2', 'A3', 'A4', 'A5', 'B1', 'B2', 'B3', 'B4', 'B5', 'C1', 'C2', 'C3', 'C4',\n",
       "       'C5', 'D1', 'D2', 'D3', 'D4', 'D5', 'E1', 'E2', 'E3', 'E4', 'E5', 'F1', 'F2', 'F3', 'F4',\n",
       "       'F5', 'G1', 'G2', 'G3', 'G4', 'G5'], dtype='<U69')"
      ]
     },
     "execution_count": 247,
     "metadata": {},
     "output_type": "execute_result"
    }
   ],
   "source": [
    "np.unique(loan_data_strings[:, 4])"
   ]
  },
  {
   "cell_type": "markdown",
   "id": "3facf4e0",
   "metadata": {},
   "source": [
    "when having category and subcategory - drop  one of it appropriately - which provide more info "
   ]
  },
  {
   "cell_type": "code",
   "execution_count": 248,
   "id": "5f0c4574",
   "metadata": {},
   "outputs": [],
   "source": [
    "Grades= np.array(['', 'A', 'B', 'C', 'D', 'E', 'F', 'G'])"
   ]
  },
  {
   "cell_type": "code",
   "execution_count": 249,
   "id": "ecfcba47",
   "metadata": {},
   "outputs": [],
   "source": [
    "Subgrades = np.array(['', 'A1', 'A2', 'A3', 'A4', 'A5', 'B1', 'B2', 'B3', 'B4', 'B5', 'C1', 'C2', 'C3', 'C4',\n",
    "       'C5', 'D1', 'D2', 'D3', 'D4', 'D5', 'E1', 'E2', 'E3', 'E4', 'E5', 'F1', 'F2', 'F3', 'F4',\n",
    "       'F5', 'G1', 'G2', 'G3', 'G4', 'G5'])"
   ]
  },
  {
   "cell_type": "code",
   "execution_count": 250,
   "id": "60ec7bbf",
   "metadata": {},
   "outputs": [],
   "source": [
    "Grades = np.array(['', 'A', 'B', 'C', 'D', 'E', 'F', 'G'])\n",
    "\n",
    "for i in range(len(Grades)):\n",
    "    loan_data_strings[:, 3] = np.where(loan_data_strings[:, 3] == Grades[i], i, loan_data_strings[:, 3])\n"
   ]
  },
  {
   "cell_type": "code",
   "execution_count": 251,
   "id": "cc3e0390",
   "metadata": {},
   "outputs": [
    {
     "name": "stdout",
     "output_type": "stream",
     "text": [
      "['3' '1' '2' ... '1' '4' '1']\n"
     ]
    }
   ],
   "source": [
    "print(loan_data_strings[:,3])"
   ]
  },
  {
   "cell_type": "code",
   "execution_count": 252,
   "id": "ea0fffa4",
   "metadata": {},
   "outputs": [
    {
     "data": {
      "text/plain": [
       "array(['0', '1', '2', '3', '4', '5', '6', '7'], dtype='<U69')"
      ]
     },
     "execution_count": 252,
     "metadata": {},
     "output_type": "execute_result"
    }
   ],
   "source": [
    "np.unique(loan_data_strings[:, 3])"
   ]
  },
  {
   "cell_type": "code",
   "execution_count": 253,
   "id": "e47ccccd",
   "metadata": {},
   "outputs": [
    {
     "data": {
      "text/plain": [
       "array(['3', '1', '2', ..., '1', '4', '1'], dtype='<U69')"
      ]
     },
     "execution_count": 253,
     "metadata": {},
     "output_type": "execute_result"
    }
   ],
   "source": [
    "loan_data_strings[:, 3] = loan_data_strings[:, 3].astype(int)\n",
    "loan_data_strings[:, 3]"
   ]
  },
  {
   "cell_type": "code",
   "execution_count": 254,
   "id": "e5a7ae90",
   "metadata": {},
   "outputs": [
    {
     "name": "stdout",
     "output_type": "stream",
     "text": [
      "Grades and their counts :\n",
      "Grade 0: 515\n",
      "Grade 1: 1632\n",
      "Grade 2: 2606\n",
      "Grade 3: 2766\n",
      "Grade 4: 1389\n",
      "Grade 5: 816\n",
      "Grade 6: 236\n",
      "Grade 7: 40\n"
     ]
    }
   ],
   "source": [
    "\n",
    "unique_grades, grade_counts = np.unique(loan_data_strings[:, 3], return_counts=True)\n",
    "print(\"Grades and their counts :\")\n",
    "for grade, count in zip(unique_grades, grade_counts):\n",
    "    print(f\"Grade {grade}: {count}\")\n"
   ]
  },
  {
   "cell_type": "markdown",
   "id": "e17180eb",
   "metadata": {},
   "source": [
    "How loan grading and subgrading works ? -> google \n",
    "\n",
    "when stuck with data how it work ?\n",
    "1. know the data - learn what it is\n",
    "2. understand data - look at the headers \n",
    "3. then work on it \n"
   ]
  },
  {
   "cell_type": "code",
   "execution_count": 255,
   "id": "f9579d2c",
   "metadata": {},
   "outputs": [],
   "source": [
    "loan_data_strings[:, 4] = np.where(loan_data_strings[:, 4] == '', '00', loan_data_strings[:, 4])\n",
    "#loan_data_strings[:, 3] = np.chararray.strip(loan_data_strings[:, 3])\n",
    "loan_data_strings[:, 4] = np.chararray.strip(loan_data_strings[:, 4])\n",
    "loan_data_strings[:, 4] = np.char.replace(loan_data_strings[:, 4], 'A', '1')\n",
    "loan_data_strings[:, 4] = np.char.replace(loan_data_strings[:, 4], 'B', '2')\n",
    "loan_data_strings[:, 4] = np.char.replace(loan_data_strings[:, 4], 'C', '3')\n",
    "loan_data_strings[:, 4] = np.char.replace(loan_data_strings[:, 4], 'D', '4')\n",
    "loan_data_strings[:, 4] = np.char.replace(loan_data_strings[:, 4], 'E', '5')\n",
    "loan_data_strings[:, 4] = np.char.replace(loan_data_strings[:, 4], 'F', '6')\n",
    "loan_data_strings[:, 4] = np.char.replace(loan_data_strings[:, 4], 'G', '7')\n",
    "loan_data_strings[:, 4] = np.char.replace(loan_data_strings[:, 4], 'H', '8')\n"
   ]
  },
  {
   "cell_type": "code",
   "execution_count": 256,
   "id": "365e3291",
   "metadata": {},
   "outputs": [
    {
     "data": {
      "text/plain": [
       "array(['00', '11', '12', '13', '14', '15', '21', '22', '23', '24', '25', '31', '32', '33', '34',\n",
       "       '35', '41', '42', '43', '44', '45', '51', '52', '53', '54', '55', '61', '62', '63', '64',\n",
       "       '65', '71', '72', '73', '74', '75'], dtype='<U69')"
      ]
     },
     "execution_count": 256,
     "metadata": {},
     "output_type": "execute_result"
    }
   ],
   "source": [
    "np.unique(loan_data_strings[:, 4] )"
   ]
  },
  {
   "cell_type": "markdown",
   "id": "742e5019",
   "metadata": {},
   "source": [
    "# Verification Status"
   ]
  },
  {
   "cell_type": "code",
   "execution_count": 257,
   "id": "ec192fa0",
   "metadata": {},
   "outputs": [
    {
     "data": {
      "text/plain": [
       "array(['', 'Not Verified', 'Source Verified', 'Verified'], dtype='<U69')"
      ]
     },
     "execution_count": 257,
     "metadata": {},
     "output_type": "execute_result"
    }
   ],
   "source": [
    "np.unique(loan_data_strings[:, 5])"
   ]
  },
  {
   "cell_type": "code",
   "execution_count": 258,
   "id": "c493c6db",
   "metadata": {},
   "outputs": [
    {
     "data": {
      "text/plain": [
       "array(['1', '1', '1', ..., '1', '1', '2'], dtype='<U69')"
      ]
     },
     "execution_count": 258,
     "metadata": {},
     "output_type": "execute_result"
    }
   ],
   "source": [
    "\n",
    "loan_data_strings[:, 5] = np.where(\n",
    "    loan_data_strings[:, 5] == 'Not Verified' , 0,\n",
    "    np.where(np.isin(loan_data_strings[:, 5], ['Source Verified', 'Verified']), 1, 2)\n",
    ")\n",
    "\n",
    "loan_data_strings[:,5]"
   ]
  },
  {
   "cell_type": "code",
   "execution_count": 259,
   "id": "5e58068e",
   "metadata": {},
   "outputs": [
    {
     "data": {
      "text/plain": [
       "array(['0', '1', '2'], dtype='<U69')"
      ]
     },
     "execution_count": 259,
     "metadata": {},
     "output_type": "execute_result"
    }
   ],
   "source": [
    "np.unique(loan_data_strings[:, 5])"
   ]
  },
  {
   "cell_type": "markdown",
   "id": "9665b3f5",
   "metadata": {},
   "source": [
    "# URL - remove entirely if unused (assuming index 6)\n"
   ]
  },
  {
   "cell_type": "markdown",
   "id": "78773df3",
   "metadata": {},
   "source": [
    "urls are all same except the loan id , and its already having different column \n"
   ]
  },
  {
   "cell_type": "code",
   "execution_count": 260,
   "id": "b99fbefb",
   "metadata": {},
   "outputs": [],
   "source": [
    "loan_data_strings = np.delete(loan_data_strings, 6, axis=1)\n",
    "header_strings = np.delete(header_strings, 6)"
   ]
  },
  {
   "cell_type": "markdown",
   "id": "5f3c3d44",
   "metadata": {},
   "source": [
    "# State Address\n"
   ]
  },
  {
   "cell_type": "code",
   "execution_count": 261,
   "id": "2a3e9365",
   "metadata": {},
   "outputs": [
    {
     "data": {
      "text/plain": [
       "array(['', 'AK', 'AL', 'AR', 'AZ', 'CA', 'CO', 'CT', 'DC', 'DE', 'FL', 'GA', 'HI', 'IL', 'IN',\n",
       "       'KS', 'KY', 'LA', 'MA', 'MD', 'ME', 'MI', 'MN', 'MO', 'MS', 'MT', 'NC', 'ND', 'NE', 'NH',\n",
       "       'NJ', 'NM', 'NV', 'NY', 'OH', 'OK', 'OR', 'PA', 'RI', 'SC', 'SD', 'TN', 'TX', 'UT', 'VA',\n",
       "       'VT', 'WA', 'WI', 'WV', 'WY'], dtype='<U69')"
      ]
     },
     "execution_count": 261,
     "metadata": {},
     "output_type": "execute_result"
    }
   ],
   "source": [
    "states = np.unique(loan_data_strings[:, 6])\n",
    "states"
   ]
  },
  {
   "cell_type": "code",
   "execution_count": 262,
   "id": "dc132321",
   "metadata": {},
   "outputs": [],
   "source": [
    "states, state_count = np.unique(loan_data_strings[:,6],return_counts= True)"
   ]
  },
  {
   "cell_type": "code",
   "execution_count": 263,
   "id": "09e09d30",
   "metadata": {},
   "outputs": [
    {
     "data": {
      "text/plain": [
       "array([ 5, 33, 42, 10,  0, 13, 30, 11, 37, 34, 21, 26, 44, 19,  4, 46, 18,  6, 23, 22, 14, 47,  7,\n",
       "       41, 32,  2, 17, 36, 39, 16, 15, 35, 43,  3, 24, 29, 31, 48, 12, 38, 25,  9,  8, 49,  1, 28,\n",
       "       40, 45, 27, 20])"
      ]
     },
     "execution_count": 263,
     "metadata": {},
     "output_type": "execute_result"
    }
   ],
   "source": [
    "states_count_sorted =  np.argsort(-state_count)\n",
    "states_count_sorted"
   ]
  },
  {
   "cell_type": "code",
   "execution_count": 264,
   "id": "aaaf67e7",
   "metadata": {},
   "outputs": [
    {
     "data": {
      "text/plain": [
       "(array(['CA', 'NY', 'TX', 'FL', '', 'IL', 'NJ', 'GA', 'PA', 'OH', 'MI', 'NC', 'VA', 'MD', 'AZ',\n",
       "        'WA', 'MA', 'CO', 'MO', 'MN', 'IN', 'WI', 'CT', 'TN', 'NV', 'AL', 'LA', 'OR', 'SC', 'KY',\n",
       "        'KS', 'OK', 'UT', 'AR', 'MS', 'NH', 'NM', 'WV', 'HI', 'RI', 'MT', 'DE', 'DC', 'WY', 'AK',\n",
       "        'NE', 'SD', 'VT', 'ND', 'ME'], dtype='<U69'),\n",
       " array([1336,  777,  758,  690,  500,  389,  341,  321,  320,  312,  267,  261,  242,  222,  220,\n",
       "         216,  210,  201,  160,  156,  152,  148,  143,  143,  130,  119,  116,  108,  107,   84,\n",
       "          84,   83,   74,   74,   61,   58,   57,   49,   44,   40,   28,   27,   27,   27,   26,\n",
       "          25,   24,   17,   16,   10]))"
      ]
     },
     "execution_count": 264,
     "metadata": {},
     "output_type": "execute_result"
    }
   ],
   "source": [
    "states[states_count_sorted], state_count[states_count_sorted]"
   ]
  },
  {
   "cell_type": "code",
   "execution_count": 265,
   "id": "883d0cd0",
   "metadata": {},
   "outputs": [],
   "source": [
    "for i in range(50):\n",
    "        loan_data_strings[:,6] = np.where(loan_data_strings[:,6] == states[i],\n",
    "                                          i,\n",
    "                                          loan_data_strings[:,6])"
   ]
  },
  {
   "cell_type": "code",
   "execution_count": 270,
   "id": "308f7c77",
   "metadata": {},
   "outputs": [],
   "source": [
    "loan_data_strings[:,6] = np.where(loan_data_strings[:,6] == '', 0 , loan_data_strings[:,6])"
   ]
  },
  {
   "cell_type": "code",
   "execution_count": 266,
   "id": "5abee724",
   "metadata": {},
   "outputs": [
    {
     "data": {
      "text/plain": [
       "array(['5', '33', '37', ..., '5', '34', '13'], dtype='<U69')"
      ]
     },
     "execution_count": 266,
     "metadata": {},
     "output_type": "execute_result"
    }
   ],
   "source": [
    "loan_data_strings[:,6]"
   ]
  },
  {
   "cell_type": "code",
   "execution_count": null,
   "id": "65ecc97e",
   "metadata": {},
   "outputs": [],
   "source": [
    "states_west = np.array([ ])\n",
    "states_east = np.array([ ])\n",
    "states_north = np.array([ ])\n",
    "states_south = np.array([ ])\n"
   ]
  },
  {
   "cell_type": "markdown",
   "id": "84bf7535",
   "metadata": {},
   "source": [
    "# Convert all string columns to numeric\n"
   ]
  },
  {
   "cell_type": "code",
   "execution_count": 267,
   "id": "18ee445a",
   "metadata": {},
   "outputs": [],
   "source": [
    "loan_data_strings = loan_data_strings.astype(float)"
   ]
  },
  {
   "cell_type": "code",
   "execution_count": 268,
   "id": "af02942e",
   "metadata": {},
   "outputs": [
    {
     "data": {
      "text/plain": [
       "array([[ 5.,  1., 36., ..., 33.,  1.,  5.],\n",
       "       [ 0.,  1., 36., ..., 15.,  1., 33.],\n",
       "       [ 9.,  1., 36., ..., 25.,  1., 37.],\n",
       "       ...,\n",
       "       [ 6.,  1., 36., ..., 15.,  1.,  5.],\n",
       "       [ 4.,  1., 36., ..., 42.,  1., 34.],\n",
       "       [12.,  1., 36., ..., 14.,  2., 13.]])"
      ]
     },
     "execution_count": 268,
     "metadata": {},
     "output_type": "execute_result"
    }
   ],
   "source": [
    "loan_data_strings"
   ]
  },
  {
   "cell_type": "code",
   "execution_count": 269,
   "id": "9d2f2a49",
   "metadata": {},
   "outputs": [
    {
     "data": {
      "text/plain": [
       "array(['issue_date', 'loan_status', 'term_months', 'grade', 'sub_grade', 'verification_status',\n",
       "       'addr_state'], dtype='<U19')"
      ]
     },
     "execution_count": 269,
     "metadata": {},
     "output_type": "execute_result"
    }
   ],
   "source": [
    "header_strings"
   ]
  },
  {
   "cell_type": "markdown",
   "id": "82af5698",
   "metadata": {},
   "source": [
    "unique counts ?\n",
    "nan count -> np.isnan(array).sum\n",
    "groupby \n"
   ]
  },
  {
   "cell_type": "code",
   "execution_count": null,
   "id": "27a2b088",
   "metadata": {},
   "outputs": [],
   "source": [
    "temporary_fill\n",
    ".sum \n",
    "\n",
    "\n",
    "varian"
   ]
  },
  {
   "cell_type": "markdown",
   "id": "26a68653",
   "metadata": {},
   "source": [
    "currency exchange \n",
    "\n",
    "load file \n",
    "\n",
    "exchage rate \n",
    "\n",
    "from usd to eur \n",
    "\n",
    "\n",
    "hstack -> combine 2 columns and  add new column\n",
    "reshape \n",
    "header handling \n",
    "\n"
   ]
  },
  {
   "cell_type": "code",
   "execution_count": null,
   "id": "30e7f163",
   "metadata": {},
   "outputs": [],
   "source": [
    "currency exchange \n",
    "\n",
    "\n",
    "for i in col_dollar :\n",
    "     loan_numeric  = np.hstack\n",
    "     "
   ]
  }
 ],
 "metadata": {
  "kernelspec": {
   "display_name": "base",
   "language": "python",
   "name": "python3"
  },
  "language_info": {
   "codemirror_mode": {
    "name": "ipython",
    "version": 3
   },
   "file_extension": ".py",
   "mimetype": "text/x-python",
   "name": "python",
   "nbconvert_exporter": "python",
   "pygments_lexer": "ipython3",
   "version": "3.12.7"
  }
 },
 "nbformat": 4,
 "nbformat_minor": 5
}
